{
  "nbformat": 4,
  "nbformat_minor": 0,
  "metadata": {
    "colab": {
      "provenance": [],
      "gpuType": "T4"
    },
    "kernelspec": {
      "name": "python3",
      "display_name": "Python 3"
    },
    "language_info": {
      "name": "python"
    },
    "accelerator": "GPU"
  },
  "cells": [
    {
      "cell_type": "markdown",
      "source": [],
      "metadata": {
        "id": "kQXrTGmGGxMb"
      }
    },
    {
      "cell_type": "markdown",
      "source": [
        "# Import necessaries\n"
      ],
      "metadata": {
        "id": "akkJ2b6gGzBH"
      }
    },
    {
      "cell_type": "code",
      "execution_count": 1,
      "metadata": {
        "id": "9fTePrjXGJDE"
      },
      "outputs": [],
      "source": [
        "import numpy as np\n",
        "import pandas as pd\n",
        "import matplotlib.pyplot as plt\n",
        "from sklearn.linear_model import LinearRegression\n",
        "from sklearn.model_selection import train_test_split\n",
        "from sklearn.metrics import accuracy_score, mean_squared_error ,mean_absolute_error\n",
        "import torch\n",
        "import warnings\n",
        "warnings.filterwarnings('ignore')"
      ]
    },
    {
      "cell_type": "code",
      "source": [
        "df = pd.read_csv('./ETA.csv')"
      ],
      "metadata": {
        "id": "KkNxNjSOGP78"
      },
      "execution_count": 3,
      "outputs": []
    },
    {
      "cell_type": "markdown",
      "source": [
        "# Train with provided LinearRegression"
      ],
      "metadata": {
        "id": "9Q6JVpLNHGQW"
      }
    },
    {
      "cell_type": "code",
      "source": [
        "#difine X & Y then splite train and test\n",
        "df['first_param'] = df['distance'].values / df['speed'].values\n",
        "X = df[['first_param', 'traffic', 'weather_conditions']].to_numpy()\n",
        "Y = df['Time_Arrival'].to_numpy()\n",
        "\n",
        "X_train, X_test, Y_train, Y_test = train_test_split(X, Y, test_size=0.2)\n",
        "\n",
        "#linear regression model\n",
        "model = LinearRegression().fit(X_train, Y_train)\n",
        "\n",
        "#perdict y_pred\n",
        "y_pred = model.predict(X_test)\n",
        "\n",
        "#print MSE & MAE\n",
        "print(\"Mean Squared Error:\", mean_squared_error(Y_test, y_pred))\n",
        "print(\"Mean Absolute Error:\", mean_absolute_error(Y_test, y_pred))"
      ],
      "metadata": {
        "colab": {
          "base_uri": "https://localhost:8080/"
        },
        "id": "QaVUaO9TGUk3",
        "outputId": "d9f2c42d-656b-4284-f3a2-4807b783e13b"
      },
      "execution_count": 4,
      "outputs": [
        {
          "output_type": "stream",
          "name": "stdout",
          "text": [
            "Mean Squared Error: 1.4523052524635268e-30\n",
            "Mean Absolute Error: 9.50350909079134e-16\n"
          ]
        }
      ]
    },
    {
      "cell_type": "markdown",
      "source": [
        "# LinearRegression without Provided ones"
      ],
      "metadata": {
        "id": "6qs3eG0hHfMx"
      }
    },
    {
      "cell_type": "code",
      "source": [
        "# initialize parameter\n",
        "w0 = torch.tensor(10.0, requires_grad=True)\n",
        "w1 = torch.tensor(15.0, requires_grad=True)\n",
        "w2 = torch.tensor(-10.0, requires_grad=True)\n",
        "b = torch.tensor(-20.0, requires_grad=True)\n",
        "step_size = 0.006  #  for optimiser GD\n",
        "epochs = 3500"
      ],
      "metadata": {
        "id": "X_iPb2beGbMy"
      },
      "execution_count": 5,
      "outputs": []
    },
    {
      "cell_type": "code",
      "source": [
        "# difine X & Y\n",
        "df = pd.read_csv('./ETA.csv')\n",
        "df['first_param'] = df['distance'].values / df['speed'].values\n",
        "X = df[['first_param', 'traffic', 'weather_conditions']].values\n",
        "Y = df['Time_Arrival'].values\n",
        "\n",
        "X = torch.tensor(X, dtype=torch.float32)\n",
        "Y = torch.tensor(Y, dtype=torch.float32)\n",
        "\n",
        "# forward function\n",
        "def forward(X, w0, w1, w2, b):\n",
        "    return w0 * X[:, 0] + w1 * X[:, 1] + w2 * X[:, 2] + b\n",
        "\n",
        "#loss functions\n",
        "def loss_mse_func(Y_true, Y_pred):\n",
        "    return torch.mean((Y_true - Y_pred) ** 2)\n",
        "\n",
        "def loss_mae_func(Y_true, Y_pred):\n",
        "    return torch.mean(torch.abs(Y_true - Y_pred))\n",
        "\n",
        "#mse training\n",
        "loss_mse_list=[]\n",
        "for epoch in range(epochs):\n",
        "    Y_pred_mse = forward(X, w0, w1, w2, b)\n",
        "\n",
        "    loss_mse = loss_mse_func(Y, Y_pred_mse)\n",
        "    loss_mse_list.append(loss_mse.item())\n",
        "    loss_mse.backward()\n",
        "\n",
        "    with torch.no_grad():\n",
        "        w0 -= step_size * w0.grad\n",
        "        w1 -= step_size * w1.grad\n",
        "        w2 -= step_size * w2.grad\n",
        "        b -= step_size * b.grad\n",
        "\n",
        "        w0.grad.zero_()\n",
        "        w1.grad.zero_()\n",
        "        w2.grad.zero_()\n",
        "        b.grad.zero_()\n",
        "\n",
        "    if epoch % 100 == 0:\n",
        "        print(f\"Epoch {epoch}: Train MSE loss: {loss_mse.item():>7f}\")"
      ],
      "metadata": {
        "colab": {
          "base_uri": "https://localhost:8080/"
        },
        "id": "KKgEbEUcGf6n",
        "outputId": "10605df6-170c-4000-a377-857185bf7c5c"
      },
      "execution_count": 6,
      "outputs": [
        {
          "output_type": "stream",
          "name": "stdout",
          "text": [
            "Epoch 0: Train MSE loss: 17122.109375\n",
            "Epoch 100: Train MSE loss: 32.691532\n",
            "Epoch 200: Train MSE loss: 27.285530\n",
            "Epoch 300: Train MSE loss: 23.298538\n",
            "Epoch 400: Train MSE loss: 20.165920\n",
            "Epoch 500: Train MSE loss: 17.594267\n",
            "Epoch 600: Train MSE loss: 15.423372\n",
            "Epoch 700: Train MSE loss: 13.559531\n",
            "Epoch 800: Train MSE loss: 11.943167\n",
            "Epoch 900: Train MSE loss: 10.533056\n",
            "Epoch 1000: Train MSE loss: 9.298398\n",
            "Epoch 1100: Train MSE loss: 8.214854\n",
            "Epoch 1200: Train MSE loss: 7.262424\n",
            "Epoch 1300: Train MSE loss: 6.424263\n",
            "Epoch 1400: Train MSE loss: 5.685977\n",
            "Epoch 1500: Train MSE loss: 5.035151\n",
            "Epoch 1600: Train MSE loss: 4.461015\n",
            "Epoch 1700: Train MSE loss: 3.954199\n",
            "Epoch 1800: Train MSE loss: 3.506538\n",
            "Epoch 1900: Train MSE loss: 3.110894\n",
            "Epoch 2000: Train MSE loss: 2.761026\n",
            "Epoch 2100: Train MSE loss: 2.451474\n",
            "Epoch 2200: Train MSE loss: 2.177447\n",
            "Epoch 2300: Train MSE loss: 1.934750\n",
            "Epoch 2400: Train MSE loss: 1.719696\n",
            "Epoch 2500: Train MSE loss: 1.529049\n",
            "Epoch 2600: Train MSE loss: 1.359967\n",
            "Epoch 2700: Train MSE loss: 1.209945\n",
            "Epoch 2800: Train MSE loss: 1.076781\n",
            "Epoch 2900: Train MSE loss: 0.958534\n",
            "Epoch 3000: Train MSE loss: 0.853496\n",
            "Epoch 3100: Train MSE loss: 0.760155\n",
            "Epoch 3200: Train MSE loss: 0.677182\n",
            "Epoch 3300: Train MSE loss: 0.603401\n",
            "Epoch 3400: Train MSE loss: 0.537773\n"
          ]
        }
      ]
    },
    {
      "cell_type": "code",
      "source": [
        "# initialize parameter\n",
        "w0 = torch.tensor(10.0, requires_grad=True)\n",
        "w1 = torch.tensor(15.0, requires_grad=True)\n",
        "w2 = torch.tensor(-10.0, requires_grad=True)\n",
        "b = torch.tensor(-20.0, requires_grad=True)"
      ],
      "metadata": {
        "id": "j6RjET-5IOgw"
      },
      "execution_count": 7,
      "outputs": []
    },
    {
      "cell_type": "code",
      "source": [
        "#mae training\n",
        "loss_mae_list=[]\n",
        "for epoch in range(epochs):\n",
        "    Y_pred_mae = forward(X, w0, w1, w2, b)\n",
        "\n",
        "    loss_mae = loss_mae_func(Y, Y_pred_mae)\n",
        "    loss_mae_list.append(loss_mae.item())\n",
        "    loss_mae.backward()\n",
        "\n",
        "    with torch.no_grad():\n",
        "        w0 -= step_size * w0.grad\n",
        "        w1 -= step_size * w1.grad\n",
        "        w2 -= step_size * w2.grad\n",
        "        b -= step_size * b.grad\n",
        "\n",
        "        w0.grad.zero_()\n",
        "        w1.grad.zero_()\n",
        "        w2.grad.zero_()\n",
        "        b.grad.zero_()\n",
        "\n",
        "    if epoch % 100 == 0:\n",
        "        print(f\"Epoch {epoch}: Train MAE loss: {loss_mae.item():>7f}\")\n"
      ],
      "metadata": {
        "colab": {
          "base_uri": "https://localhost:8080/"
        },
        "id": "wumr45XuIUr6",
        "outputId": "bbbba591-09c5-46a4-9938-4b013c9d3a2f"
      },
      "execution_count": 9,
      "outputs": [
        {
          "output_type": "stream",
          "name": "stdout",
          "text": [
            "Epoch 0: Train MAE loss: 118.875801\n",
            "Epoch 100: Train MAE loss: 48.185062\n",
            "Epoch 200: Train MAE loss: 5.120848\n",
            "Epoch 300: Train MAE loss: 5.082099\n",
            "Epoch 400: Train MAE loss: 5.043957\n",
            "Epoch 500: Train MAE loss: 5.006208\n",
            "Epoch 600: Train MAE loss: 4.968941\n",
            "Epoch 700: Train MAE loss: 4.932323\n",
            "Epoch 800: Train MAE loss: 4.896176\n",
            "Epoch 900: Train MAE loss: 4.860726\n",
            "Epoch 1000: Train MAE loss: 4.825754\n",
            "Epoch 1100: Train MAE loss: 4.791237\n",
            "Epoch 1200: Train MAE loss: 4.757445\n",
            "Epoch 1300: Train MAE loss: 4.724227\n",
            "Epoch 1400: Train MAE loss: 4.691333\n",
            "Epoch 1500: Train MAE loss: 4.659058\n",
            "Epoch 1600: Train MAE loss: 4.627229\n",
            "Epoch 1700: Train MAE loss: 4.595926\n",
            "Epoch 1800: Train MAE loss: 4.565302\n",
            "Epoch 1900: Train MAE loss: 4.534844\n",
            "Epoch 2000: Train MAE loss: 4.504758\n",
            "Epoch 2100: Train MAE loss: 4.475036\n",
            "Epoch 2200: Train MAE loss: 4.445642\n",
            "Epoch 2300: Train MAE loss: 4.416486\n",
            "Epoch 2400: Train MAE loss: 4.387724\n",
            "Epoch 2500: Train MAE loss: 4.359273\n",
            "Epoch 2600: Train MAE loss: 4.331303\n",
            "Epoch 2700: Train MAE loss: 4.303516\n",
            "Epoch 2800: Train MAE loss: 4.275823\n",
            "Epoch 2900: Train MAE loss: 4.248290\n",
            "Epoch 3000: Train MAE loss: 4.221173\n",
            "Epoch 3100: Train MAE loss: 4.194373\n",
            "Epoch 3200: Train MAE loss: 4.167919\n",
            "Epoch 3300: Train MAE loss: 4.141580\n",
            "Epoch 3400: Train MAE loss: 4.115434\n"
          ]
        }
      ]
    },
    {
      "cell_type": "code",
      "source": [
        "# MSE & MAE Loss\n",
        "print(\"MSE Loss \",loss_mse.item())\n",
        "print(\"MAE Loss \", loss_mae.item())\n",
        "\n",
        "\n",
        "# Plot the loss history for both models\n",
        "plt.plot(loss_mse_list, label='MSE Loss')\n",
        "plt.plot(loss_mae_list, label='MAE Loss')\n",
        "plt.xlabel('Epoch')\n",
        "plt.ylabel('Loss')\n",
        "plt.title('Loss Curves')\n",
        "plt.savefig('LossCurve.png')\n",
        "plt.show()"
      ],
      "metadata": {
        "colab": {
          "base_uri": "https://localhost:8080/",
          "height": 507
        },
        "id": "jOB2ckO2IqfI",
        "outputId": "2d9ff96d-a0bf-4c07-eaeb-5c8e1061c8d8"
      },
      "execution_count": 11,
      "outputs": [
        {
          "output_type": "stream",
          "name": "stdout",
          "text": [
            "MSE Loss  0.4799310863018036\n",
            "MAE Loss  4.0899434089660645\n"
          ]
        },
        {
          "output_type": "display_data",
          "data": {
            "text/plain": [
              "<Figure size 640x480 with 1 Axes>"
            ],
            "image/png": "[encoded data removed]"
          },
          "metadata": {}
        }
      ]
    }
  ]
}